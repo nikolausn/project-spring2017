{
 "cells": [
  {
   "cell_type": "markdown",
   "metadata": {},
   "source": [
    "# CUMTD Visualization\n",
    "## Group Totoro\n",
    "\n",
    "# Data Preprocessing\n",
    "\n",
    "Firstly, we prepare our dataset to comply with our visualization purposes. We define three functions, convertToSecond, getTravelTime, and getFrequency, and apply it to our dataset. It will take time to finishing this process since the data in the shapes table is quite big, so be patient when running this preprocessing step.\n",
    "\n",
    "# CUMTD\n",
    "\n",
    "To have a general idea of the Champaign-Urbana MTD routes, let us take a look at this All-Route plot.\n",
    "We plotted all the routes based on the shapes data. In this visualization, the color for each route matches the name of the route. Some routes have the same name but are operated at different times. In this case, we combined them into single color in order to show the shape of the whole Champaign-Urbana MTD routes. The colors we used in the visualization are the exact same colors that CUMTD used in their routes color representation.\n",
    "\n",
    "To visualize this we build function draw_plot, with routes and trips as the parameters. Because one route can have many trips, we filter the route that has maximum stop frequency to get the longest shape.  These functions can be reused to visualize other routes, as long as the routes and trips data that already preprocessed are provided.\n",
    "\n",
    "# 1. Most Frequent Route in the Work Hours:\n",
    "\n",
    "From the All-Route visualization above, we can see that almost all areas in the Urbana-Champaign are covered by CUMTD routes. This lead us to our next question, which route has the most frequent bus over the work hour (08:00 - 17:00). Since at this time, the transportation are needed the most. Therefore, in our this visualization, we want to visualize which route has the most frequent buses over the weekly schedule between work hours range (08:00 - 17:00)\n",
    "\n",
    "In order to show only the most frequent routes, our first step is to get the 10 most frequent routes from the trips data. Then we plotted the 10 routes based on the shapes data. We also added legends to the graph, which are ordered by frequencies from highest to lowest, so that users can easily recognize which route is the most frequent one. To reduce confusion, we assigned the colors to the routes according to the route names, for example, we assigned yellow to Yellow Hopper. \n",
    "\n",
    "Because we defined a series of functions before plotting the graph, our visualization is reproducible. We can easily visualize another dataset with same structures using this approach. In addition, our visualization is easy to understand. Users can get clear information from the graph. However, the procedure of our approach is complex and data processing took us a lot of time. Moreover, the visualization is not informative enough. We could add an affiliated histogram to the graph showing the number of frequencies.\n",
    "\n",
    "# 2. Bus Stops Observation\n",
    "\n",
    "In this visualization, we observe the Bus Stops Density, which stops has most frequent buses coming for the time schedule range over a weekly schedule.\n",
    "\n",
    "## Stop density visualization, Visualize Density of a stop based on CUMTD Weekly Schedule\n",
    "\n",
    "We plotted the stops on a static google map to show the stop densities. When people are looking at the visualization, they can easily figure out which area has the highest stop density. In our graph, it is the center of campus. In our visualization, we counted the buses over 7 days, which makes the numbers of stop density to be very high. Therefore, we count the frequence as an average frequency over a day.\n",
    "\n",
    "We choose viridis color map to represent this visualization since it is a perceptually linear color and can provide frequency separation nicely. In addition, we visualize each scatter point with alpha=0.5 to provide transparancy. Therefore, some data point that clustered together in a spot will have strong color.\n",
    "\n"
   ]
  }
 ],
 "metadata": {
  "anaconda-cloud": {},
  "kernelspec": {
   "display_name": "Python [Root]",
   "language": "python",
   "name": "Python [Root]"
  },
  "language_info": {
   "codemirror_mode": {
    "name": "ipython",
    "version": 3
   },
   "file_extension": ".py",
   "mimetype": "text/x-python",
   "name": "python",
   "nbconvert_exporter": "python",
   "pygments_lexer": "ipython3",
   "version": "3.5.2"
  }
 },
 "nbformat": 4,
 "nbformat_minor": 0
}
