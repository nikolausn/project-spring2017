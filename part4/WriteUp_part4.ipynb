{
 "cells": [
  {
   "cell_type": "markdown",
   "metadata": {},
   "source": [
    "                                    Write-up for the Infograph\n",
    "We chose the IMLS dataset to create the infograph because this dataset is a time series dataset and we wanted to create a story by showing a comparison between the latest trend and the trend over the past years in the dataset. The infograph shows a few visualizations that demostrate the trend of the various attributes of the dataset for each states over a time priod of eighteen years. We decided to create these visualizations in particular because the data has information about all the states of The United States over a period of eighteen years and we found it very interesting to demonstrate. The dataset tells you a story about the awards(grants), types and number of each type of instituion, types of programs, amount awarded and amount requested distributed across the fifty states of America. We thought that showing this information would be very intriguing for the viewers. We are showing a trend of total amount awarded and total number of awarded grants over the period of eighteen years in this infograph. In addition to this we are also showing the distribution of awarded amounts and number of institutions across all the fifty states. This infograph gives us an overall idea of how IMLS is performing over a period of time.\n",
    "We decided to choose bright colors for this infograph as we wanted to make it catchy for the people who are looking at it and it should immediately grab their attention towards the story we are trying to deliver. Along with the visualizations we are also showing some statistics(in the form of numbers) in our infograph to make it more informative. We wanted to keep our infograph simple so that the viewer does not have to struggle much to absorb the information given on the infograph. And for this reason we are trying to give a high-level view(state level) of the IMLS dataset and hence not showing the program level or organization level view of the dataset."
   ]
  }
 ],
 "metadata": {
  "anaconda-cloud": {},
  "kernelspec": {
   "display_name": "Python 2",
   "language": "python",
   "name": "python2"
  },
  "language_info": {
   "codemirror_mode": {
    "name": "ipython",
    "version": 2
   },
   "file_extension": ".py",
   "mimetype": "text/x-python",
   "name": "python",
   "nbconvert_exporter": "python",
   "pygments_lexer": "ipython2",
   "version": "2.7.13"
  }
 },
 "nbformat": 4,
 "nbformat_minor": 1
}
