{
 "cells": [
  {
   "cell_type": "code",
   "execution_count": 263,
   "metadata": {
    "collapsed": false
   },
   "outputs": [],
   "source": [
    "import plotly \n",
    "plotly.tools.set_credentials_file(username='ptyagi2', api_key='j1ztLn1qlEh65N1kcK0X')\n",
    "import plotly.plotly as py\n",
    "import pandas as pd\n",
    "import matplotlib.pyplot as plt\n",
    "import numpy as np\n",
    "plt.rcParams[\"figure.figsize\"] = (1,1)"
   ]
  },
  {
   "cell_type": "code",
   "execution_count": 264,
   "metadata": {
    "collapsed": false,
    "scrolled": true
   },
   "outputs": [
    {
     "data": {
      "text/plain": [
       "dict_keys(['Program', 'Organization Type', 'First Name', 'Address 2', 'Last Name', 'Institution', 'City', 'Fiscal Year', 'Program Type', 'Project Type', 'Total Amount Awarded and Disbursed', 'Address', 'County Code', 'Organizational Unit', 'Applicant Matching Amount', 'Census Block', 'Award Period From', 'Organizational Unit Location', 'Requested Matching Amount', 'State', 'Total Amount Originally Awarded', 'Project Title', 'MCD Code', 'Location', 'Title of Principal Investigator', 'Log Number', 'Description', 'Address 3', 'Award Period To', 'Census Tract', 'CBSA Code', 'Zip Code', 'Award Date', 'Place Code', 'MSAD Code', 'Requested Award Amount'])"
      ]
     },
     "execution_count": 264,
     "metadata": {},
     "output_type": "execute_result"
    }
   ],
   "source": [
    "#Loading the grants dataset\n",
    "import os\n",
    "import csv\n",
    "os.getcwd()\n",
    "df = {}\n",
    "with open('C:\\\\Users\\\\trive\\\\Desktop\\\\Acads\\\\Data Visualization\\\\project-spring2017\\\\part2\\Grants.csv', \"r\", encoding=\"utf8\") as f:\n",
    "    reader = csv.reader(f)\n",
    "    header = next(reader)\n",
    "    for k in header:\n",
    "        df[k] = []\n",
    "    for row in reader:\n",
    "        for k, v in zip(header, row):\n",
    "            df[k].append(v)\n",
    "df.keys()"
   ]
  },
  {
   "cell_type": "markdown",
   "metadata": {},
   "source": [
    "This notebook shows the distribution of grants across various states.The fields for grants that we are interested in looking at, are 'Requested Award Amount'and'Total Amount Awarded and Disbursed'."
   ]
  },
  {
   "cell_type": "code",
   "execution_count": 265,
   "metadata": {
    "collapsed": false
   },
   "outputs": [],
   "source": [
    "#Removing the dollar sign and converting the amount columns into float \n",
    "df[\"Amount awarded and disbursed\"] = []\n",
    "df[\"Amount requested\"] = []\n",
    "for value in df[\"Total Amount Awarded and Disbursed\"]:\n",
    "    new_data = value.strip('$')\n",
    "    df[\"Amount awarded and disbursed\"].append(float(new_data)) \n",
    "    \n",
    "for value in df[\"Requested Award Amount\"]:\n",
    "    new_data1 = value.strip('$')\n",
    "    df[\"Amount requested\"].append(float(new_data1))\n",
    "#df[\"Total Amount Awarded and Disbursed\"],df[\"Amount awarded and disbursed\"],df[\"Requested Award Amount\"],df[\"Amount requested\"]"
   ]
  },
  {
   "cell_type": "code",
   "execution_count": 266,
   "metadata": {
    "collapsed": true
   },
   "outputs": [],
   "source": [
    "class Dataset:\n",
    "    def __init__(self, data):\n",
    "        self.data = data.copy()\n",
    "    \n",
    "    def columns(self):\n",
    "        return self.data.keys()\n",
    "    \n",
    "    def convert(self, column, dtype):\n",
    "        self.data[column] = np.array(self.data[column], dtype=dtype)\n",
    "                      "
   ]
  },
  {
   "cell_type": "code",
   "execution_count": 267,
   "metadata": {
    "collapsed": false
   },
   "outputs": [],
   "source": [
    "grants = Dataset(df)\n",
    "\n",
    "value_types = {'Zip code': 'int',\n",
    "               'Fiscal Year': 'int',\n",
    "               'Amount awarded and disbursed': 'float',\n",
    "               'Amount requested': 'float',\n",
    "               }\n",
    "for col in grants.columns():\n",
    "    grants.convert(col, value_types.get(col, \"str\"))\n",
    "#df"
   ]
  },
  {
   "cell_type": "code",
   "execution_count": 268,
   "metadata": {
    "collapsed": true
   },
   "outputs": [],
   "source": [
    "scl = [[0.0, 'rgb(242,240,247)'],[0.2, 'rgb(218,218,235)'],[0.4, 'rgb(188,189,220)'],\\\n",
    "            [0.6, 'rgb(158,154,200)'],[0.8, 'rgb(117,107,177)'],[1.0, 'rgb(84,39,143)']]"
   ]
  },
  {
   "cell_type": "markdown",
   "metadata": {},
   "source": [
    "Why did you choose this color scale?"
   ]
  },
  {
   "cell_type": "code",
   "execution_count": 269,
   "metadata": {
    "collapsed": false
   },
   "outputs": [
    {
     "data": {
      "text/plain": [
       "dict_keys(['Location', 'Organization Type', 'Address 2', 'Institution', 'City', 'Fiscal Year', 'Program Type', 'Program', 'Total Amount Awarded and Disbursed', 'Organizational Unit Location', 'Address 3', 'Requested Matching Amount', 'Census Block', 'MCD Code', 'Amount awarded and disbursed', 'Census Tract', 'Amount requested', 'Zip Code', 'Log Number', 'Award Date', 'Place Code', 'CBSA Code', 'First Name', 'Last Name', 'Organizational Unit', 'Address', 'State', 'Applicant Matching Amount', 'Total Amount Originally Awarded', 'Award Period From', 'County Code', 'Project Title', 'Title of Principal Investigator', 'Project Type', 'Description', 'Award Period To', 'MSAD Code', 'Requested Award Amount'])"
      ]
     },
     "execution_count": 269,
     "metadata": {},
     "output_type": "execute_result"
    }
   ],
   "source": [
    "grants.data.keys()"
   ]
  },
  {
   "cell_type": "markdown",
   "metadata": {},
   "source": [
    "Now,the dictionary is converted to a Data Frame to group by the fields -\"Amount awarded and disbursed\", \"Amount requested\" at State and Fiscal Year level. It is then converted back to a dictionary for further plotting."
   ]
  },
  {
   "cell_type": "code",
   "execution_count": 305,
   "metadata": {
    "collapsed": false
   },
   "outputs": [],
   "source": [
    "def f(Year,Program):\n",
    "    #Converting grants data into a dataframe and applying groupby function\n",
    "    grants_df= pd.DataFrame(grants.data)\n",
    "    if Program =='ALL':\n",
    "        grants_df_year = grants_df[(grants_df['Fiscal Year'] == int(Year))]\n",
    "    else:\n",
    "        grants_df_year = grants_df[(grants_df['Fiscal Year'] == int(Year)) & (grants_df['Program'] == Program)]\n",
    "    grants_df_2 = grants_df_year.groupby(['State', 'Fiscal Year', 'Program'])[['Amount awarded and disbursed', 'Amount requested']].sum()\n",
    "    \n",
    "    #Converting grants_df_2 to a dictionary\n",
    "    grants_new = {}\n",
    "    grants_new.setdefault('State', [])\n",
    "    grants_new.setdefault('Fiscal Year', [])\n",
    "    grants_new.setdefault('Program', [])\n",
    "    grants_new.setdefault('Amount awarded and disbursed', [])\n",
    "    grants_new.setdefault('Amount requested', [])\n",
    "    for x in grants_df_2.itertuples():\n",
    "        grants_new['State'].append(x[0][0])\n",
    "        grants_new['Fiscal Year'].append(x[0][1])\n",
    "        grants_new['Program'].append(x[0][2])\n",
    "        grants_new['Amount awarded and disbursed'].append(x[1])\n",
    "        grants_new['Amount requested'].append(x[2])     \n",
    "    \n",
    "    #Creating Heat map using Plotly\n",
    "    data = [ dict(\n",
    "            type='choropleth',\n",
    "            colorscale = scl,\n",
    "            #hoverinfo='text',\n",
    "            autocolorscale = False,\n",
    "            locations = grants_new['State'],\n",
    "            z = grants_new['Amount awarded and disbursed'],\n",
    "            text = grants_new['Program'],\n",
    "            locationmode = 'USA-states',\n",
    "            marker = dict(\n",
    "                line = dict (\n",
    "                    color = 'rgb(255,255,255)',\n",
    "                    width = 2\n",
    "                ) ),\n",
    "            colorbar = dict(\n",
    "                #autotick = False,\n",
    "                #tickprefix = '$',\n",
    "                title = \"Total amount of grants awarded in USD\"),\n",
    "        ) ]\n",
    "    layout = dict(\n",
    "        title = 'Total amount of grants awarded by State',\n",
    "        geo = dict(\n",
    "            scope='usa',\n",
    "            projection=dict( type='albers usa' ),\n",
    "            showlakes = True,\n",
    "            lakecolor = 'rgb(255, 255, 255)'),\n",
    "             )\n",
    "    fig = dict(data=data, layout=layout)\n",
    "    return py.iplot(fig, filename = 'heatmap_1')"
   ]
  },
  {
   "cell_type": "code",
   "execution_count": null,
   "metadata": {
    "collapsed": false
   },
   "outputs": [],
   "source": [
    "from ipywidgets import interact, interactive, fixed, interact_manual\n",
    "import ipywidgets as widgets\n",
    "grants_df= pd.DataFrame(grants.data)\n",
    "year_list = sorted(np.array(grants_df['Fiscal Year'].unique()).tolist())\n",
    "program_list = sorted(np.array(grants_df['Program'].unique()).tolist())\n",
    "program_list.append('ALL')\n",
    "interact(f, Year = year_list, Program = program_list);"
   ]
  },
  {
   "cell_type": "markdown",
   "metadata": {
    "collapsed": true
   },
   "source": [
    "I am trying to include the following also in the heat map:\n",
    "1. Non-US states like Northern Mariana Islands, Puerto Rico, U.S. Virgin Islands, Guam, District of Columbia, Micronesia, Marshall Islands, Palau,American Samoa\n",
    "2. Adding the feature of multi-selection, so that the user can select more than one Programs/Years."
   ]
  },
  {
   "cell_type": "code",
   "execution_count": null,
   "metadata": {
    "collapsed": true
   },
   "outputs": [],
   "source": []
  }
 ],
 "metadata": {
  "anaconda-cloud": {},
  "kernelspec": {
   "display_name": "Python [conda root]",
   "language": "python",
   "name": "conda-root-py"
  },
  "language_info": {
   "codemirror_mode": {
    "name": "ipython",
    "version": 3
   },
   "file_extension": ".py",
   "mimetype": "text/x-python",
   "name": "python",
   "nbconvert_exporter": "python",
   "pygments_lexer": "ipython3",
   "version": "3.5.2"
  },
  "widgets": {
   "state": {
    "6cfdfb60d0b0417fb74444ea4c09a554": {
     "views": [
      {
       "cell_index": 11
      }
     ]
    }
   },
   "version": "1.2.0"
  }
 },
 "nbformat": 4,
 "nbformat_minor": 0
}
